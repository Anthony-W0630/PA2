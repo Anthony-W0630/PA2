{
 "cells": [
  {
   "cell_type": "markdown",
   "id": "9b5aa44c",
   "metadata": {},
   "source": [
    "# Programming Assignment 2\n",
    "## Anthony Wayman\n",
    "### Version 1\n",
    "### Fall 2023"
   ]
  },
  {
   "cell_type": "markdown",
   "id": "98f16ff0",
   "metadata": {},
   "source": [
    "## Task 1: Personal Information"
   ]
  },
  {
   "cell_type": "code",
   "execution_count": 1,
   "id": "a4cd43b0",
   "metadata": {},
   "outputs": [
    {
     "name": "stdout",
     "output_type": "stream",
     "text": [
      "My name is Anthony, My age is 17, My height in cm is, 178, and my favorite color is blue\n"
     ]
    }
   ],
   "source": [
    "name=\"Anthony\"\n",
    "age=17\n",
    "height=178\n",
    "favorite_color=\"blue\"\n",
    "print(f\"My name is {name}, My age is {age}, My height in cm is, {height}, and my favorite color is {favorite_color}\")"
   ]
  },
  {
   "cell_type": "markdown",
   "id": "e4977d13",
   "metadata": {},
   "source": [
    "## Task 2: Temperature Conversion "
   ]
  },
  {
   "cell_type": "code",
   "execution_count": 2,
   "id": "a5067b18",
   "metadata": {},
   "outputs": [
    {
     "name": "stdout",
     "output_type": "stream",
     "text": [
      "The celsius temp is 100°C, which is 87.55555555555556°F\n"
     ]
    }
   ],
   "source": [
    "celsius_temp= 100\n",
    "fahrenheit_temp=(celsius_temp*(5/9))+32\n",
    "print(f\"The celsius temp is {celsius_temp}°C, which is {fahrenheit_temp}°F\")"
   ]
  },
  {
   "cell_type": "markdown",
   "id": "46d72226",
   "metadata": {},
   "source": [
    "## Task 3: Simple Calculator"
   ]
  },
  {
   "cell_type": "code",
   "execution_count": 3,
   "id": "b515da85",
   "metadata": {},
   "outputs": [
    {
     "name": "stdout",
     "output_type": "stream",
     "text": [
      "The addition: 39\n",
      "The subtration: 29\n",
      "The multiplication: 170\n",
      "The division: 6.8\n"
     ]
    }
   ],
   "source": [
    "num1=34\n",
    "num2=5\n",
    "print(f\"The addition: {num1+num2}\")\n",
    "print(f\"The subtration: {num1-num2}\")\n",
    "print(f\"The multiplication: {num1*num2}\")\n",
    "print(f\"The division: {num1/num2}\")"
   ]
  },
  {
   "cell_type": "markdown",
   "id": "92b330ee",
   "metadata": {},
   "source": [
    "## Task 4: String Manipulation"
   ]
  },
  {
   "cell_type": "code",
   "execution_count": 4,
   "id": "bb1671f4",
   "metadata": {},
   "outputs": [
    {
     "name": "stdout",
     "output_type": "stream",
     "text": [
      "42\n",
      " YOU MISS 100% OF THE SHOTS YOU DON'T TAKE\n",
      " you miss 100% of the shots you don't take\n",
      "You miss 100% of the shots you don't take\n",
      "\n",
      "you \n",
      "miss \n",
      "100% \n",
      "of \n",
      "the \n",
      "shots \n",
      "you \n",
      "don't \n",
      "take\n"
     ]
    }
   ],
   "source": [
    "quote=\" You miss 100% of the shots you don't take\"\n",
    "print(len(quote))\n",
    "print(quote.upper())\n",
    "print(quote.lower())\n",
    "print(quote.strip())\n",
    "print(\"\\nyou \\nmiss \\n100% \\nof \\nthe \\nshots \\nyou \\ndon't \\ntake\")"
   ]
  },
  {
   "cell_type": "markdown",
   "id": "1657ccf7",
   "metadata": {},
   "source": [
    "## Task 5: User Imput and Integer Operations "
   ]
  },
  {
   "cell_type": "code",
   "execution_count": 8,
   "id": "2351bea0",
   "metadata": {},
   "outputs": [
    {
     "name": "stdout",
     "output_type": "stream",
     "text": [
      "Enter an integer: 12\n",
      "Enter another integer: 2\n",
      "the addition: 14\n",
      "The subtraction: 10\n",
      "The muliplication: 24\n",
      "The division: 6.0\n"
     ]
    }
   ],
   "source": [
    "int1=int(input(\"Enter an integer: \"))\n",
    "int2=int(input(\"Enter another integer: \"))\n",
    "print(f\"the addition: {int1+int2}\")\n",
    "print(f\"The subtraction: {int1-int2}\")\n",
    "print(f\"The muliplication: {int1*int2}\")\n",
    "print(f\"The division: {int1/int2}\")"
   ]
  }
 ],
 "metadata": {
  "kernelspec": {
   "display_name": "Python 3 (ipykernel)",
   "language": "python",
   "name": "python3"
  },
  "language_info": {
   "codemirror_mode": {
    "name": "ipython",
    "version": 3
   },
   "file_extension": ".py",
   "mimetype": "text/x-python",
   "name": "python",
   "nbconvert_exporter": "python",
   "pygments_lexer": "ipython3",
   "version": "3.11.4"
  }
 },
 "nbformat": 4,
 "nbformat_minor": 5
}
